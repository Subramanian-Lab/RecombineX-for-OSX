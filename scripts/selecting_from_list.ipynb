{
 "cells": [
  {
   "cell_type": "code",
   "execution_count": 1,
   "metadata": {},
   "outputs": [],
   "source": [
    "from Bio import SeqIO\n"
   ]
  },
  {
   "cell_type": "code",
   "execution_count": 2,
   "metadata": {},
   "outputs": [],
   "source": [
    "tidy_file = \"../test_project/00.Reference_Genome/SGDref.genome.tidy.fa\"\n",
    "chr_list = \"../data/Saccharomyces_cerevisiae.chr_list.txt\"\n",
    "filtered_file = \"../test_project/00.Reference_Genome/test.fa\""
   ]
  },
  {
   "cell_type": "code",
   "execution_count": null,
   "metadata": {},
   "outputs": [],
   "source": [
    "ranking_order = \"by_list\" # or \"by_fasta\"\n",
    "selection_mode = \"select\" # or \"invert\""
   ]
  },
  {
   "cell_type": "code",
   "execution_count": null,
   "metadata": {},
   "outputs": [],
   "source": [
    "def selecting_from_genome(selection_mode, input_genome, input_list, output_genome):\n",
    "    if selection_mode == \"select\":\n",
    "        for record in SeqIO.parse(input_genome, \"fasta\"):\n",
    "            if record.id in input_list:\n",
    "                SeqIO.write(record, output_genome, \"fasta\")\n",
    "  \n",
    "    if selection_mode == \"invert\":\n",
    "        for record in SeqIO.parse(input_genome, \"fasta\"):\n",
    "            if record.id not in input_list:\n",
    "                SeqIO.write(record, output_genome, \"fasta\")\n"
   ]
  },
  {
   "cell_type": "code",
   "execution_count": 3,
   "metadata": {},
   "outputs": [
    {
     "name": "stdout",
     "output_type": "stream",
     "text": [
      "chrI\n",
      "chrII\n",
      "chrIII\n",
      "chrIV\n",
      "chrV\n",
      "chrVI\n",
      "chrVII\n",
      "chrVIII\n",
      "chrIX\n",
      "chrX\n",
      "chrXI\n",
      "chrXII\n",
      "chrXIII\n",
      "chrXIV\n",
      "chrXV\n",
      "chrXVI\n",
      "chrmitochondrion\n"
     ]
    }
   ],
   "source": [
    "with open(tidy_file, \"r\") as input_genome, open(chr_list, \"r\") as input_list, open(filtered_file, \"w\") as output_genome:\n",
    "    selecting_from_genome(selection_mode, input_genome, input_list, output_genome)\n",
    "\n",
    "    "
   ]
  }
 ],
 "metadata": {
  "kernelspec": {
   "display_name": "vslab",
   "language": "python",
   "name": "python3"
  },
  "language_info": {
   "codemirror_mode": {
    "name": "ipython",
    "version": 3
   },
   "file_extension": ".py",
   "mimetype": "text/x-python",
   "name": "python",
   "nbconvert_exporter": "python",
   "pygments_lexer": "ipython3",
   "version": "3.12.5"
  }
 },
 "nbformat": 4,
 "nbformat_minor": 2
}
