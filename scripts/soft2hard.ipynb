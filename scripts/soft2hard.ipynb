{
 "cells": [
  {
   "cell_type": "code",
   "execution_count": 7,
   "metadata": {},
   "outputs": [],
   "source": [
    "from Bio import SeqIO\n",
    "from Bio.Seq import Seq"
   ]
  },
  {
   "cell_type": "code",
   "execution_count": 8,
   "metadata": {},
   "outputs": [],
   "source": [
    "fasta_file = \"./../test_project/01.Reference_Genome_Preprocessing/ref.genome.softmask.relabel.fa\""
   ]
  },
  {
   "cell_type": "code",
   "execution_count": 9,
   "metadata": {},
   "outputs": [],
   "source": [
    "with open(fasta_file, \"rt\") as input_handle:\n",
    "    hard_masked_records = []\n",
    "    for record in SeqIO.parse(input_handle, \"fasta\"):\n",
    "        record.seq = Seq(\"\".join([\"N\" if letter in [\"a\", \"t\", \"g\", \"c\", \"n\"] else letter for letter in record.seq]))\n",
    "        hard_masked_records.append(record)\n",
    "\n",
    "with open(\"output.fa\", \"wt\") as output_handle:\n",
    "    SeqIO.write(hard_masked_records, output_handle, \"fasta\")"
   ]
  },
  {
   "cell_type": "code",
   "execution_count": null,
   "metadata": {},
   "outputs": [],
   "source": []
  }
 ],
 "metadata": {
  "kernelspec": {
   "display_name": "Python 3",
   "language": "python",
   "name": "python3"
  },
  "language_info": {
   "codemirror_mode": {
    "name": "ipython",
    "version": 3
   },
   "file_extension": ".py",
   "mimetype": "text/x-python",
   "name": "python",
   "nbconvert_exporter": "python",
   "pygments_lexer": "ipython3",
   "version": "3.9.6"
  }
 },
 "nbformat": 4,
 "nbformat_minor": 2
}
